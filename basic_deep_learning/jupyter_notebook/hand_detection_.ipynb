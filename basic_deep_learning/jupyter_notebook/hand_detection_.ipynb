{
 "metadata": {
  "language_info": {
   "codemirror_mode": {
    "name": "ipython",
    "version": 3
   },
   "file_extension": ".py",
   "mimetype": "text/x-python",
   "name": "python",
   "nbconvert_exporter": "python",
   "pygments_lexer": "ipython3",
   "version": "3.6.4-final"
  },
  "orig_nbformat": 2,
  "kernelspec": {
   "name": "python3",
   "display_name": "Python 3",
   "language": "python"
  }
 },
 "nbformat": 4,
 "nbformat_minor": 2,
 "cells": [
  {
   "cell_type": "code",
   "execution_count": 1,
   "metadata": {
    "tags": []
   },
   "outputs": [
    {
     "output_type": "stream",
     "name": "stdout",
     "text": [
      "HAND is ready to train\n['one', 'two']\n"
     ]
    },
    {
     "output_type": "display_data",
     "data": {
      "text/plain": "<Figure size 432x288 with 1 Axes>",
      "image/svg+xml": "<?xml version=\"1.0\" encoding=\"utf-8\" standalone=\"no\"?>\r\n<!DOCTYPE svg PUBLIC \"-//W3C//DTD SVG 1.1//EN\"\r\n  \"http://www.w3.org/Graphics/SVG/1.1/DTD/svg11.dtd\">\r\n<!-- Created with matplotlib (https://matplotlib.org/) -->\r\n<svg height=\"250.618594pt\" version=\"1.1\" viewBox=\"0 0 251.565 250.618594\" width=\"251.565pt\" xmlns=\"http://www.w3.org/2000/svg\" xmlns:xlink=\"http://www.w3.org/1999/xlink\">\r\n <metadata>\r\n  <rdf:RDF xmlns:cc=\"http://creativecommons.org/ns#\" xmlns:dc=\"http://purl.org/dc/elements/1.1/\" xmlns:rdf=\"http://www.w3.org/1999/02/22-rdf-syntax-ns#\">\r\n   <cc:Work>\r\n    <dc:type rdf:resource=\"http://purl.org/dc/dcmitype/StillImage\"/>\r\n    <dc:date>2021-01-07T12:49:04.924080</dc:date>\r\n    <dc:format>image/svg+xml</dc:format>\r\n    <dc:creator>\r\n     <cc:Agent>\r\n      <dc:title>Matplotlib v3.3.3, https://matplotlib.org/</dc:title>\r\n     </cc:Agent>\r\n    </dc:creator>\r\n   </cc:Work>\r\n  </rdf:RDF>\r\n </metadata>\r\n <defs>\r\n  <style type=\"text/css\">*{stroke-linecap:butt;stroke-linejoin:round;}</style>\r\n </defs>\r\n <g id=\"figure_1\">\r\n  <g id=\"patch_1\">\r\n   <path d=\"M 0 250.618594 \r\nL 251.565 250.618594 \r\nL 251.565 0 \r\nL 0 0 \r\nz\r\n\" style=\"fill:none;\"/>\r\n  </g>\r\n  <g id=\"axes_1\">\r\n   <g id=\"patch_2\">\r\n    <path d=\"M 26.925 226.740469 \r\nL 244.365 226.740469 \r\nL 244.365 9.300469 \r\nL 26.925 9.300469 \r\nz\r\n\" style=\"fill:#ffffff;\"/>\r\n   </g>\r\n   <g clip-path=\"url(#pfb788dec67)\">\r\n    <image height=\"218\" id=\"image8a7260e0a1\" transform=\"scale(1 -1)translate(0 -218)\" width=\"218\" x=\"26.925\" xlink:href=\"data:image/png;base64,\r\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\" y=\"-8.740469\"/>\r\n   </g>\r\n   <g id=\"matplotlib.axis_1\">\r\n    <g id=\"xtick_1\">\r\n     <g id=\"line2d_1\">\r\n      <defs>\r\n       <path d=\"M 0 0 \r\nL 0 3.5 \r\n\" id=\"m07665abc82\" style=\"stroke:#000000;stroke-width:0.8;\"/>\r\n      </defs>\r\n      <g>\r\n       <use style=\"stroke:#000000;stroke-width:0.8;\" x=\"28.62375\" xlink:href=\"#m07665abc82\" y=\"226.740469\"/>\r\n      </g>\r\n     </g>\r\n     <g id=\"text_1\">\r\n      <!-- 0 -->\r\n      <g transform=\"translate(25.4425 241.338906)scale(0.1 -0.1)\">\r\n       <defs>\r\n        <path d=\"M 31.78125 66.40625 \r\nQ 24.171875 66.40625 20.328125 58.90625 \r\nQ 16.5 51.421875 16.5 36.375 \r\nQ 16.5 21.390625 20.328125 13.890625 \r\nQ 24.171875 6.390625 31.78125 6.390625 \r\nQ 39.453125 6.390625 43.28125 13.890625 \r\nQ 47.125 21.390625 47.125 36.375 \r\nQ 47.125 51.421875 43.28125 58.90625 \r\nQ 39.453125 66.40625 31.78125 66.40625 \r\nz\r\nM 31.78125 74.21875 \r\nQ 44.046875 74.21875 50.515625 64.515625 \r\nQ 56.984375 54.828125 56.984375 36.375 \r\nQ 56.984375 17.96875 50.515625 8.265625 \r\nQ 44.046875 -1.421875 31.78125 -1.421875 \r\nQ 19.53125 -1.421875 13.0625 8.265625 \r\nQ 6.59375 17.96875 6.59375 36.375 \r\nQ 6.59375 54.828125 13.0625 64.515625 \r\nQ 19.53125 74.21875 31.78125 74.21875 \r\nz\r\n\" id=\"DejaVuSans-48\"/>\r\n       </defs>\r\n       <use xlink:href=\"#DejaVuSans-48\"/>\r\n      </g>\r\n     </g>\r\n    </g>\r\n    <g id=\"xtick_2\">\r\n     <g id=\"line2d_2\">\r\n      <g>\r\n       <use style=\"stroke:#000000;stroke-width:0.8;\" x=\"62.59875\" xlink:href=\"#m07665abc82\" y=\"226.740469\"/>\r\n      </g>\r\n     </g>\r\n     <g id=\"text_2\">\r\n      <!-- 10 -->\r\n      <g transform=\"translate(56.23625 241.338906)scale(0.1 -0.1)\">\r\n       <defs>\r\n        <path d=\"M 12.40625 8.296875 \r\nL 28.515625 8.296875 \r\nL 28.515625 63.921875 \r\nL 10.984375 60.40625 \r\nL 10.984375 69.390625 \r\nL 28.421875 72.90625 \r\nL 38.28125 72.90625 \r\nL 38.28125 8.296875 \r\nL 54.390625 8.296875 \r\nL 54.390625 0 \r\nL 12.40625 0 \r\nz\r\n\" id=\"DejaVuSans-49\"/>\r\n       </defs>\r\n       <use xlink:href=\"#DejaVuSans-49\"/>\r\n       <use x=\"63.623047\" xlink:href=\"#DejaVuSans-48\"/>\r\n      </g>\r\n     </g>\r\n    </g>\r\n    <g id=\"xtick_3\">\r\n     <g id=\"line2d_3\">\r\n      <g>\r\n       <use style=\"stroke:#000000;stroke-width:0.8;\" x=\"96.57375\" xlink:href=\"#m07665abc82\" y=\"226.740469\"/>\r\n      </g>\r\n     </g>\r\n     <g id=\"text_3\">\r\n      <!-- 20 -->\r\n      <g transform=\"translate(90.21125 241.338906)scale(0.1 -0.1)\">\r\n       <defs>\r\n        <path d=\"M 19.1875 8.296875 \r\nL 53.609375 8.296875 \r\nL 53.609375 0 \r\nL 7.328125 0 \r\nL 7.328125 8.296875 \r\nQ 12.9375 14.109375 22.625 23.890625 \r\nQ 32.328125 33.6875 34.8125 36.53125 \r\nQ 39.546875 41.84375 41.421875 45.53125 \r\nQ 43.3125 49.21875 43.3125 52.78125 \r\nQ 43.3125 58.59375 39.234375 62.25 \r\nQ 35.15625 65.921875 28.609375 65.921875 \r\nQ 23.96875 65.921875 18.8125 64.3125 \r\nQ 13.671875 62.703125 7.8125 59.421875 \r\nL 7.8125 69.390625 \r\nQ 13.765625 71.78125 18.9375 73 \r\nQ 24.125 74.21875 28.421875 74.21875 \r\nQ 39.75 74.21875 46.484375 68.546875 \r\nQ 53.21875 62.890625 53.21875 53.421875 \r\nQ 53.21875 48.921875 51.53125 44.890625 \r\nQ 49.859375 40.875 45.40625 35.40625 \r\nQ 44.1875 33.984375 37.640625 27.21875 \r\nQ 31.109375 20.453125 19.1875 8.296875 \r\nz\r\n\" id=\"DejaVuSans-50\"/>\r\n       </defs>\r\n       <use xlink:href=\"#DejaVuSans-50\"/>\r\n       <use x=\"63.623047\" xlink:href=\"#DejaVuSans-48\"/>\r\n      </g>\r\n     </g>\r\n    </g>\r\n    <g id=\"xtick_4\">\r\n     <g id=\"line2d_4\">\r\n      <g>\r\n       <use style=\"stroke:#000000;stroke-width:0.8;\" x=\"130.54875\" xlink:href=\"#m07665abc82\" y=\"226.740469\"/>\r\n      </g>\r\n     </g>\r\n     <g id=\"text_4\">\r\n      <!-- 30 -->\r\n      <g transform=\"translate(124.18625 241.338906)scale(0.1 -0.1)\">\r\n       <defs>\r\n        <path d=\"M 40.578125 39.3125 \r\nQ 47.65625 37.796875 51.625 33 \r\nQ 55.609375 28.21875 55.609375 21.1875 \r\nQ 55.609375 10.40625 48.1875 4.484375 \r\nQ 40.765625 -1.421875 27.09375 -1.421875 \r\nQ 22.515625 -1.421875 17.65625 -0.515625 \r\nQ 12.796875 0.390625 7.625 2.203125 \r\nL 7.625 11.71875 \r\nQ 11.71875 9.328125 16.59375 8.109375 \r\nQ 21.484375 6.890625 26.8125 6.890625 \r\nQ 36.078125 6.890625 40.9375 10.546875 \r\nQ 45.796875 14.203125 45.796875 21.1875 \r\nQ 45.796875 27.640625 41.28125 31.265625 \r\nQ 36.765625 34.90625 28.71875 34.90625 \r\nL 20.21875 34.90625 \r\nL 20.21875 43.015625 \r\nL 29.109375 43.015625 \r\nQ 36.375 43.015625 40.234375 45.921875 \r\nQ 44.09375 48.828125 44.09375 54.296875 \r\nQ 44.09375 59.90625 40.109375 62.90625 \r\nQ 36.140625 65.921875 28.71875 65.921875 \r\nQ 24.65625 65.921875 20.015625 65.03125 \r\nQ 15.375 64.15625 9.8125 62.3125 \r\nL 9.8125 71.09375 \r\nQ 15.4375 72.65625 20.34375 73.4375 \r\nQ 25.25 74.21875 29.59375 74.21875 \r\nQ 40.828125 74.21875 47.359375 69.109375 \r\nQ 53.90625 64.015625 53.90625 55.328125 \r\nQ 53.90625 49.265625 50.4375 45.09375 \r\nQ 46.96875 40.921875 40.578125 39.3125 \r\nz\r\n\" id=\"DejaVuSans-51\"/>\r\n       </defs>\r\n       <use xlink:href=\"#DejaVuSans-51\"/>\r\n       <use x=\"63.623047\" xlink:href=\"#DejaVuSans-48\"/>\r\n      </g>\r\n     </g>\r\n    </g>\r\n    <g id=\"xtick_5\">\r\n     <g id=\"line2d_5\">\r\n      <g>\r\n       <use style=\"stroke:#000000;stroke-width:0.8;\" x=\"164.52375\" xlink:href=\"#m07665abc82\" y=\"226.740469\"/>\r\n      </g>\r\n     </g>\r\n     <g id=\"text_5\">\r\n      <!-- 40 -->\r\n      <g transform=\"translate(158.16125 241.338906)scale(0.1 -0.1)\">\r\n       <defs>\r\n        <path d=\"M 37.796875 64.3125 \r\nL 12.890625 25.390625 \r\nL 37.796875 25.390625 \r\nz\r\nM 35.203125 72.90625 \r\nL 47.609375 72.90625 \r\nL 47.609375 25.390625 \r\nL 58.015625 25.390625 \r\nL 58.015625 17.1875 \r\nL 47.609375 17.1875 \r\nL 47.609375 0 \r\nL 37.796875 0 \r\nL 37.796875 17.1875 \r\nL 4.890625 17.1875 \r\nL 4.890625 26.703125 \r\nz\r\n\" id=\"DejaVuSans-52\"/>\r\n       </defs>\r\n       <use xlink:href=\"#DejaVuSans-52\"/>\r\n       <use x=\"63.623047\" xlink:href=\"#DejaVuSans-48\"/>\r\n      </g>\r\n     </g>\r\n    </g>\r\n    <g id=\"xtick_6\">\r\n     <g id=\"line2d_6\">\r\n      <g>\r\n       <use style=\"stroke:#000000;stroke-width:0.8;\" x=\"198.49875\" xlink:href=\"#m07665abc82\" y=\"226.740469\"/>\r\n      </g>\r\n     </g>\r\n     <g id=\"text_6\">\r\n      <!-- 50 -->\r\n      <g transform=\"translate(192.13625 241.338906)scale(0.1 -0.1)\">\r\n       <defs>\r\n        <path d=\"M 10.796875 72.90625 \r\nL 49.515625 72.90625 \r\nL 49.515625 64.59375 \r\nL 19.828125 64.59375 \r\nL 19.828125 46.734375 \r\nQ 21.96875 47.46875 24.109375 47.828125 \r\nQ 26.265625 48.1875 28.421875 48.1875 \r\nQ 40.625 48.1875 47.75 41.5 \r\nQ 54.890625 34.8125 54.890625 23.390625 \r\nQ 54.890625 11.625 47.5625 5.09375 \r\nQ 40.234375 -1.421875 26.90625 -1.421875 \r\nQ 22.3125 -1.421875 17.546875 -0.640625 \r\nQ 12.796875 0.140625 7.71875 1.703125 \r\nL 7.71875 11.625 \r\nQ 12.109375 9.234375 16.796875 8.0625 \r\nQ 21.484375 6.890625 26.703125 6.890625 \r\nQ 35.15625 6.890625 40.078125 11.328125 \r\nQ 45.015625 15.765625 45.015625 23.390625 \r\nQ 45.015625 31 40.078125 35.4375 \r\nQ 35.15625 39.890625 26.703125 39.890625 \r\nQ 22.75 39.890625 18.8125 39.015625 \r\nQ 14.890625 38.140625 10.796875 36.28125 \r\nz\r\n\" id=\"DejaVuSans-53\"/>\r\n       </defs>\r\n       <use xlink:href=\"#DejaVuSans-53\"/>\r\n       <use x=\"63.623047\" xlink:href=\"#DejaVuSans-48\"/>\r\n      </g>\r\n     </g>\r\n    </g>\r\n    <g id=\"xtick_7\">\r\n     <g id=\"line2d_7\">\r\n      <g>\r\n       <use style=\"stroke:#000000;stroke-width:0.8;\" x=\"232.47375\" xlink:href=\"#m07665abc82\" y=\"226.740469\"/>\r\n      </g>\r\n     </g>\r\n     <g id=\"text_7\">\r\n      <!-- 60 -->\r\n      <g transform=\"translate(226.11125 241.338906)scale(0.1 -0.1)\">\r\n       <defs>\r\n        <path d=\"M 33.015625 40.375 \r\nQ 26.375 40.375 22.484375 35.828125 \r\nQ 18.609375 31.296875 18.609375 23.390625 \r\nQ 18.609375 15.53125 22.484375 10.953125 \r\nQ 26.375 6.390625 33.015625 6.390625 \r\nQ 39.65625 6.390625 43.53125 10.953125 \r\nQ 47.40625 15.53125 47.40625 23.390625 \r\nQ 47.40625 31.296875 43.53125 35.828125 \r\nQ 39.65625 40.375 33.015625 40.375 \r\nz\r\nM 52.59375 71.296875 \r\nL 52.59375 62.3125 \r\nQ 48.875 64.0625 45.09375 64.984375 \r\nQ 41.3125 65.921875 37.59375 65.921875 \r\nQ 27.828125 65.921875 22.671875 59.328125 \r\nQ 17.53125 52.734375 16.796875 39.40625 \r\nQ 19.671875 43.65625 24.015625 45.921875 \r\nQ 28.375 48.1875 33.59375 48.1875 \r\nQ 44.578125 48.1875 50.953125 41.515625 \r\nQ 57.328125 34.859375 57.328125 23.390625 \r\nQ 57.328125 12.15625 50.6875 5.359375 \r\nQ 44.046875 -1.421875 33.015625 -1.421875 \r\nQ 20.359375 -1.421875 13.671875 8.265625 \r\nQ 6.984375 17.96875 6.984375 36.375 \r\nQ 6.984375 53.65625 15.1875 63.9375 \r\nQ 23.390625 74.21875 37.203125 74.21875 \r\nQ 40.921875 74.21875 44.703125 73.484375 \r\nQ 48.484375 72.75 52.59375 71.296875 \r\nz\r\n\" id=\"DejaVuSans-54\"/>\r\n       </defs>\r\n       <use xlink:href=\"#DejaVuSans-54\"/>\r\n       <use x=\"63.623047\" xlink:href=\"#DejaVuSans-48\"/>\r\n      </g>\r\n     </g>\r\n    </g>\r\n   </g>\r\n   <g id=\"matplotlib.axis_2\">\r\n    <g id=\"ytick_1\">\r\n     <g id=\"line2d_8\">\r\n      <defs>\r\n       <path d=\"M 0 0 \r\nL -3.5 0 \r\n\" id=\"m5923c47032\" style=\"stroke:#000000;stroke-width:0.8;\"/>\r\n      </defs>\r\n      <g>\r\n       <use style=\"stroke:#000000;stroke-width:0.8;\" x=\"26.925\" xlink:href=\"#m5923c47032\" y=\"10.999219\"/>\r\n      </g>\r\n     </g>\r\n     <g id=\"text_8\">\r\n      <!-- 0 -->\r\n      <g transform=\"translate(13.5625 14.798437)scale(0.1 -0.1)\">\r\n       <use xlink:href=\"#DejaVuSans-48\"/>\r\n      </g>\r\n     </g>\r\n    </g>\r\n    <g id=\"ytick_2\">\r\n     <g id=\"line2d_9\">\r\n      <g>\r\n       <use style=\"stroke:#000000;stroke-width:0.8;\" x=\"26.925\" xlink:href=\"#m5923c47032\" y=\"44.974219\"/>\r\n      </g>\r\n     </g>\r\n     <g id=\"text_9\">\r\n      <!-- 10 -->\r\n      <g transform=\"translate(7.2 48.773437)scale(0.1 -0.1)\">\r\n       <use xlink:href=\"#DejaVuSans-49\"/>\r\n       <use x=\"63.623047\" xlink:href=\"#DejaVuSans-48\"/>\r\n      </g>\r\n     </g>\r\n    </g>\r\n    <g id=\"ytick_3\">\r\n     <g id=\"line2d_10\">\r\n      <g>\r\n       <use style=\"stroke:#000000;stroke-width:0.8;\" x=\"26.925\" xlink:href=\"#m5923c47032\" y=\"78.949219\"/>\r\n      </g>\r\n     </g>\r\n     <g id=\"text_10\">\r\n      <!-- 20 -->\r\n      <g transform=\"translate(7.2 82.748437)scale(0.1 -0.1)\">\r\n       <use xlink:href=\"#DejaVuSans-50\"/>\r\n       <use x=\"63.623047\" xlink:href=\"#DejaVuSans-48\"/>\r\n      </g>\r\n     </g>\r\n    </g>\r\n    <g id=\"ytick_4\">\r\n     <g id=\"line2d_11\">\r\n      <g>\r\n       <use style=\"stroke:#000000;stroke-width:0.8;\" x=\"26.925\" xlink:href=\"#m5923c47032\" y=\"112.924219\"/>\r\n      </g>\r\n     </g>\r\n     <g id=\"text_11\">\r\n      <!-- 30 -->\r\n      <g transform=\"translate(7.2 116.723437)scale(0.1 -0.1)\">\r\n       <use xlink:href=\"#DejaVuSans-51\"/>\r\n       <use x=\"63.623047\" xlink:href=\"#DejaVuSans-48\"/>\r\n      </g>\r\n     </g>\r\n    </g>\r\n    <g id=\"ytick_5\">\r\n     <g id=\"line2d_12\">\r\n      <g>\r\n       <use style=\"stroke:#000000;stroke-width:0.8;\" x=\"26.925\" xlink:href=\"#m5923c47032\" y=\"146.899219\"/>\r\n      </g>\r\n     </g>\r\n     <g id=\"text_12\">\r\n      <!-- 40 -->\r\n      <g transform=\"translate(7.2 150.698437)scale(0.1 -0.1)\">\r\n       <use xlink:href=\"#DejaVuSans-52\"/>\r\n       <use x=\"63.623047\" xlink:href=\"#DejaVuSans-48\"/>\r\n      </g>\r\n     </g>\r\n    </g>\r\n    <g id=\"ytick_6\">\r\n     <g id=\"line2d_13\">\r\n      <g>\r\n       <use style=\"stroke:#000000;stroke-width:0.8;\" x=\"26.925\" xlink:href=\"#m5923c47032\" y=\"180.874219\"/>\r\n      </g>\r\n     </g>\r\n     <g id=\"text_13\">\r\n      <!-- 50 -->\r\n      <g transform=\"translate(7.2 184.673437)scale(0.1 -0.1)\">\r\n       <use xlink:href=\"#DejaVuSans-53\"/>\r\n       <use x=\"63.623047\" xlink:href=\"#DejaVuSans-48\"/>\r\n      </g>\r\n     </g>\r\n    </g>\r\n    <g id=\"ytick_7\">\r\n     <g id=\"line2d_14\">\r\n      <g>\r\n       <use style=\"stroke:#000000;stroke-width:0.8;\" x=\"26.925\" xlink:href=\"#m5923c47032\" y=\"214.849219\"/>\r\n      </g>\r\n     </g>\r\n     <g id=\"text_14\">\r\n      <!-- 60 -->\r\n      <g transform=\"translate(7.2 218.648437)scale(0.1 -0.1)\">\r\n       <use xlink:href=\"#DejaVuSans-54\"/>\r\n       <use x=\"63.623047\" xlink:href=\"#DejaVuSans-48\"/>\r\n      </g>\r\n     </g>\r\n    </g>\r\n   </g>\r\n   <g id=\"patch_3\">\r\n    <path d=\"M 26.925 226.740469 \r\nL 26.925 9.300469 \r\n\" style=\"fill:none;stroke:#000000;stroke-linecap:square;stroke-linejoin:miter;stroke-width:0.8;\"/>\r\n   </g>\r\n   <g id=\"patch_4\">\r\n    <path d=\"M 244.365 226.740469 \r\nL 244.365 9.300469 \r\n\" style=\"fill:none;stroke:#000000;stroke-linecap:square;stroke-linejoin:miter;stroke-width:0.8;\"/>\r\n   </g>\r\n   <g id=\"patch_5\">\r\n    <path d=\"M 26.925 226.740469 \r\nL 244.365 226.740469 \r\n\" style=\"fill:none;stroke:#000000;stroke-linecap:square;stroke-linejoin:miter;stroke-width:0.8;\"/>\r\n   </g>\r\n   <g id=\"patch_6\">\r\n    <path d=\"M 26.925 9.300469 \r\nL 244.365 9.300469 \r\n\" style=\"fill:none;stroke:#000000;stroke-linecap:square;stroke-linejoin:miter;stroke-width:0.8;\"/>\r\n   </g>\r\n  </g>\r\n </g>\r\n <defs>\r\n  <clipPath id=\"pfb788dec67\">\r\n   <rect height=\"217.44\" width=\"217.44\" x=\"26.925\" y=\"9.300469\"/>\r\n  </clipPath>\r\n </defs>\r\n</svg>\r\n",
      "image/png": "[encoded data removed]"
     },
     "metadata": {
      "needs_background": "light"
     }
    },
    {
     "output_type": "stream",
     "name": "stdout",
     "text": [
      "<class 'list'> <class 'list'>\n",
      "Epoch 1/15\n",
      "32/32 [==============================] - 1s 45ms/step - loss: 0.9072 - accuracy: 0.4940\n",
      "Epoch 2/15\n",
      "32/32 [==============================] - 1s 46ms/step - loss: 0.8024 - accuracy: 0.4980\n",
      "Epoch 3/15\n",
      "32/32 [==============================] - 1s 46ms/step - loss: 0.7635 - accuracy: 0.5040\n",
      "Epoch 4/15\n",
      "32/32 [==============================] - 1s 46ms/step - loss: 0.7291 - accuracy: 0.5230\n",
      "Epoch 5/15\n",
      "32/32 [==============================] - 2s 49ms/step - loss: 0.5392 - accuracy: 0.7310\n",
      "Epoch 6/15\n",
      "32/32 [==============================] - 2s 48ms/step - loss: 0.3701 - accuracy: 0.8560\n",
      "Epoch 7/15\n",
      "32/32 [==============================] - 2s 48ms/step - loss: 0.2799 - accuracy: 0.9090\n",
      "Epoch 8/15\n",
      "32/32 [==============================] - 2s 48ms/step - loss: 0.2071 - accuracy: 0.9330\n",
      "Epoch 9/15\n",
      "32/32 [==============================] - 2s 49ms/step - loss: 0.1554 - accuracy: 0.9550\n",
      "Epoch 10/15\n",
      "32/32 [==============================] - 2s 48ms/step - loss: 0.1393 - accuracy: 0.9710\n",
      "Epoch 11/15\n",
      "32/32 [==============================] - 1s 46ms/step - loss: 0.1163 - accuracy: 0.9690\n",
      "Epoch 12/15\n",
      "32/32 [==============================] - 1s 46ms/step - loss: 0.0957 - accuracy: 0.9770\n",
      "Epoch 13/15\n",
      "32/32 [==============================] - 1s 45ms/step - loss: 0.0890 - accuracy: 0.9800\n",
      "Epoch 14/15\n",
      "32/32 [==============================] - 1s 45ms/step - loss: 0.0719 - accuracy: 0.9800\n",
      "Epoch 15/15\n",
      "32/32 [==============================] - 2s 49ms/step - loss: 0.0794 - accuracy: 0.9820\n"
     ]
    }
   ],
   "source": [
    "import numpy as np  \n",
    "import cv2\n",
    "import random\n",
    "import matplotlib.pyplot as plt\n",
    "import os\n",
    "from keras.models import Sequential\n",
    "from keras.layers import Dense, Flatten, Conv2D, MaxPooling2D, Dropout\n",
    "\n",
    "class HAND:\n",
    "    def __init__(self):\n",
    "        self.model = None\n",
    "        self.size = (64, 64)\n",
    "        self.size_reshape = (64, 64, 1)\n",
    "        print('HAND is ready to train')\n",
    "\n",
    "    def preprocessing(self):\n",
    "        IMAGE_PATH = 'D:\\\\datafortrain'\n",
    "        tag = os.listdir(IMAGE_PATH)\n",
    "        print(tag)\n",
    "        training_src = []\n",
    "        for index, folder in enumerate(tag):\n",
    "            output = np.array([0 for i in range(0, len(tag))])\n",
    "            output[index] = 1\n",
    "            for file_image in os.listdir(os.path.join(IMAGE_PATH, folder)):\n",
    "                image = cv2.imread(os.path.join(IMAGE_PATH, folder, file_image), cv2.IMREAD_GRAYSCALE)\n",
    "                image = cv2.resize(image, self.size).reshape(self.size_reshape)\n",
    "                training_src.append([image, output])\n",
    "        random.shuffle(training_src)\n",
    "        training_src = np.array(training_src)\n",
    "        x_train = list(training_src[:,0])\n",
    "        y_train = list(training_src[:,1])\n",
    "        plt.imshow(x_train[0])\n",
    "        plt.show()\n",
    "        return (x_train, y_train)\n",
    "        \n",
    "    def train(self, x, y):\n",
    "        # Phần preprocessing sai nên hàm này vẫn chưa chạy được\n",
    "        self.model = Sequential()\n",
    "        self.model.add(Conv2D(32,(3,3),activation='sigmoid',input_shape=self.size_reshape))\n",
    "        self.model.add(MaxPooling2D(pool_size=(2,2)))\n",
    "        self.model.add(Conv2D(32,(3,3),activation='sigmoid'))\n",
    "        self.model.add(MaxPooling2D(pool_size=(2,2)))\n",
    "        self.model.add(Flatten())\n",
    "        self.model.add(Dense(64, activation='sigmoid'))\n",
    "        self.model.add(Dropout(0.5))\n",
    "        self.model.add(Dense(2, activation='softmax'))\n",
    "        self.model.compile(loss='categorical_crossentropy',\n",
    "                    optimizer='adam',\n",
    "                    metrics=['accuracy'])\n",
    "        self.model.fit(x,y,epochs=15, batch_size=32, verbose=1)\n",
    "\n",
    "    def predict(self, src):\n",
    "        return self.model.predict(src)\n",
    "\n",
    "hand = HAND()\n",
    "x_train, y_train = hand.preprocessing()\n",
    "# for i in range(0, len(x_train)):\n",
    "#     x_train[0] = x_train[0].reshape((280, 280, 1)).astype(np.float32)\n",
    "# print(x_train.shape)\n",
    "print(type(x_train), type(y_train))\n",
    "hand.train(np.array(x_train), np.array(y_train))"
   ]
  },
  {
   "cell_type": "code",
   "execution_count": 2,
   "metadata": {},
   "outputs": [
    {
     "output_type": "stream",
     "name": "stdout",
     "text": [
      "[[0.988149   0.01185104]]\n[[0, 0.988149]]\n"
     ]
    }
   ],
   "source": [
    "res = hand.predict(np.array([x_train[524]]))\n",
    "print(res)\n",
    "ERROR_THRESHOLD = 0.25\n",
    "results = [[i,r] for i,r in enumerate(res[0]) if r>ERROR_THRESHOLD]\n",
    "print(results)\n",
    "# print(x_train[0].shape)"
   ]
  },
  {
   "cell_type": "code",
   "execution_count": 9,
   "metadata": {},
   "outputs": [
    {
     "output_type": "error",
     "ename": "TypeError",
     "evalue": "Required argument 'dsize' (pos 2) not found",
     "traceback": [
      "\u001b[1;31m---------------------------------------------------------------------------\u001b[0m",
      "\u001b[1;31mTypeError\u001b[0m                                 Traceback (most recent call last)",
      "\u001b[1;32m<ipython-input-9-4d9d42f85a6f>\u001b[0m in \u001b[0;36m<module>\u001b[1;34m\u001b[0m\n\u001b[0;32m     42\u001b[0m     \u001b[0mcv2\u001b[0m\u001b[1;33m.\u001b[0m\u001b[0mimshow\u001b[0m\u001b[1;33m(\u001b[0m\u001b[1;34m'frame'\u001b[0m\u001b[1;33m,\u001b[0m\u001b[0mframe\u001b[0m\u001b[1;33m)\u001b[0m\u001b[1;33m\u001b[0m\u001b[0m\n\u001b[0;32m     43\u001b[0m     \u001b[0mcv2\u001b[0m\u001b[1;33m.\u001b[0m\u001b[0mimshow\u001b[0m\u001b[1;33m(\u001b[0m\u001b[1;34m'pFrame'\u001b[0m\u001b[1;33m,\u001b[0m\u001b[0mpFrame\u001b[0m\u001b[1;33m)\u001b[0m\u001b[1;33m\u001b[0m\u001b[0m\n\u001b[1;32m---> 44\u001b[1;33m     \u001b[0mpFrame\u001b[0m \u001b[1;33m=\u001b[0m \u001b[0mcv2\u001b[0m\u001b[1;33m.\u001b[0m\u001b[0mresize\u001b[0m\u001b[1;33m(\u001b[0m\u001b[1;33m(\u001b[0m\u001b[1;36m64\u001b[0m\u001b[1;33m,\u001b[0m\u001b[1;36m64\u001b[0m\u001b[1;33m)\u001b[0m\u001b[1;33m)\u001b[0m\u001b[1;33m.\u001b[0m\u001b[0mreshape\u001b[0m\u001b[1;33m(\u001b[0m\u001b[1;36m64\u001b[0m\u001b[1;33m,\u001b[0m\u001b[1;36m64\u001b[0m\u001b[1;33m,\u001b[0m\u001b[1;36m1\u001b[0m\u001b[1;33m)\u001b[0m\u001b[1;33m\u001b[0m\u001b[0m\n\u001b[0m\u001b[0;32m     45\u001b[0m     \u001b[0mres\u001b[0m \u001b[1;33m=\u001b[0m \u001b[0mhand\u001b[0m\u001b[1;33m.\u001b[0m\u001b[0mpredict\u001b[0m\u001b[1;33m(\u001b[0m\u001b[0mnp\u001b[0m\u001b[1;33m.\u001b[0m\u001b[0marray\u001b[0m\u001b[1;33m(\u001b[0m\u001b[1;33m[\u001b[0m\u001b[0mx_train\u001b[0m\u001b[1;33m[\u001b[0m\u001b[1;36m524\u001b[0m\u001b[1;33m]\u001b[0m\u001b[1;33m]\u001b[0m\u001b[1;33m)\u001b[0m\u001b[1;33m)\u001b[0m\u001b[1;33m\u001b[0m\u001b[0m\n\u001b[0;32m     46\u001b[0m     \u001b[0mprint\u001b[0m\u001b[1;33m(\u001b[0m\u001b[0mres\u001b[0m\u001b[1;33m)\u001b[0m\u001b[1;33m\u001b[0m\u001b[0m\n",
      "\u001b[1;31mTypeError\u001b[0m: Required argument 'dsize' (pos 2) not found"
     ]
    }
   ],
   "source": [
    "def filterNoise(src):\n",
    "    # Khử noise - bỏ nhiễu\n",
    "    kernel = cv2.getStructuringElement(cv2.MORPH_ELLIPSE,(3,3))\n",
    "    src = cv2.erode(src,kernel,iterations=2)\n",
    "    src = cv2.dilate(src,kernel,iterations=2)\n",
    "    return src\n",
    "\n",
    "def skinMask(src):\n",
    "    frame = filterNoise(src)\n",
    "    hsv = cv2.cvtColor(frame, cv2.COLOR_BGR2HSV)\n",
    "    lowerColor, upperColor = (np.array([0,48,20]), np.array([20,255,255]))\n",
    "    mask = cv2.inRange(hsv, lowerColor, upperColor)\n",
    "    # return mask\n",
    "    return cv2.bitwise_and(src, src, mask = mask)\n",
    "\n",
    "# frame shape [480,640,3]\n",
    "cap = cv2.VideoCapture(0)\n",
    "isOn = True\n",
    "# ==================================\n",
    "if not cap.isOpened:\n",
    "    isOn = False\n",
    "    print(\"Can't opened camera\")\n",
    "else:\n",
    "    ret, frame = cap.read()\n",
    "    if not ret:\n",
    "        isOn = False\n",
    "        print(\"Something went wrong, can't receive frames !\")\n",
    "\n",
    "# ==================================\n",
    "while isOn:\n",
    "    ret, frame = cap.read()\n",
    "    if not ret:\n",
    "        print(\"Something went wrong, can't receive frames !\")\n",
    "        break\n",
    "    fx = frame.shape[1] - 290\n",
    "    tx = frame.shape[1] - 10\n",
    "    fy = 10\n",
    "    ty = 290\n",
    "    frame = frame[:,::-1]\n",
    "    pFrame = skinMask(frame[fy:ty,fx:tx])\n",
    "    pFrame = cv2.cvtColor(pFrame, cv2.COLOR_BGR2GRAY)\n",
    "    cv2.imshow('frame',frame)\n",
    "    cv2.imshow('pFrame',pFrame)\n",
    "    pFrame = cv2.resize((64,64)).reshape(64,64,1)\n",
    "    res = hand.predict(np.array([x_train[524]]))\n",
    "    print(res)\n",
    "    ERROR_THRESHOLD = 0.25\n",
    "    results = [[i,r] for i,r in enumerate(res[0]) if r>ERROR_THRESHOLD]\n",
    "    print(results)\n",
    "    if cv2.waitKey(1) == 27:\n",
    "        break\n",
    "cap.release()\n",
    "cv2.destroyAllWindows()\n",
    "    "
   ]
  },
  {
   "cell_type": "code",
   "execution_count": null,
   "metadata": {},
   "outputs": [],
   "source": []
  }
 ]
}