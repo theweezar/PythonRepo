{
 "metadata": {
  "language_info": {
   "codemirror_mode": {
    "name": "ipython",
    "version": 3
   },
   "file_extension": ".py",
   "mimetype": "text/x-python",
   "name": "python",
   "nbconvert_exporter": "python",
   "pygments_lexer": "ipython3",
   "version": "3.6.4-final"
  },
  "orig_nbformat": 2,
  "kernelspec": {
   "name": "python3",
   "display_name": "Python 3.6.4 64-bit",
   "metadata": {
    "interpreter": {
     "hash": "9725c9081b7b98f4947683eb2f36d53283d1f458f2b59a0849159d07f2ffaed7"
    }
   }
  }
 },
 "nbformat": 4,
 "nbformat_minor": 2,
 "cells": [
  {
   "cell_type": "code",
   "execution_count": 1,
   "metadata": {},
   "outputs": [
    {
     "output_type": "stream",
     "name": "stdout",
     "text": [
      "Block:\n [[143 145 147 146 147 147 148 148]\n [143 144 145 145 144 145 145 146]\n [144 145 146 145 144 144 146 146]\n [144 144 143 145 145 146 144 146]\n [144 143 145 145 145 144 145 145]\n [146 145 144 144 145 148 147 146]\n [147 146 145 144 145 146 148 147]\n [146 146 143 145 145 146 147 147]] \nSecret word: d ====> 01100100\n\nSUM(fi and key): 4 | SUM(key): 12 | Bit: 0\n====> Do nothing\n\nSUM(fi and key): 4 | SUM(key): 12 | Bit: 1\n====> Everything else\n\nSUM(fi and key): 3 | SUM(key): 12 | Bit: 1\n====> Do nothing\n\nSUM(fi and key): 2 | SUM(key): 12 | Bit: 0\n====> Do nothing\n\nSUM(fi and key): 2 | SUM(key): 12 | Bit: 0\n====> Do nothing\n\nSUM(fi and key): 3 | SUM(key): 12 | Bit: 1\n====> Do nothing\n\nSUM(fi and key): 2 | SUM(key): 12 | Bit: 0\n====> Do nothing\n\nSUM(fi and key): 3 | SUM(key): 12 | Bit: 0\n====> Everything else\n"
     ]
    }
   ],
   "source": [
    "import cv2\n",
    "import numpy as np\n",
    "import matplotlib.pyplot as plt\n",
    "import random\n",
    "\n",
    "def string_to_bin(message):\n",
    "    bin_ = []\n",
    "    for c in message:\n",
    "        bin_.append('{0:08b}'.format(ord(c)))\n",
    "    return bin_\n",
    "\n",
    "def block_int_to_bin(block):\n",
    "    arr_bin = ['{0:08b}'.format(int(e)) for e in block]\n",
    "    np_bin = []\n",
    "    for a in arr_bin:\n",
    "        r = [int(b) for b in a]\n",
    "        np_bin.append(r)\n",
    "    return np.array(np_bin)\n",
    "\n",
    "def block_bin_to_int(block):\n",
    "    return block\n",
    "\n",
    "def hide_in_block(block, word):\n",
    "    key = np.array([\n",
    "            [1,0,1,0,0,0,0,0],\n",
    "            [0,0,0,0,1,0,0,0],\n",
    "            [0,0,1,0,0,0,0,0],\n",
    "            [0,0,0,0,1,0,0,0],\n",
    "            [0,0,1,0,0,0,1,0],\n",
    "            [0,0,0,0,1,0,0,0],\n",
    "            [0,0,0,0,0,0,1,0],\n",
    "            [0,1,0,1,0,1,0,0]\n",
    "        ])\n",
    "    bin_word = '{0:08b}'.format(ord(word))\n",
    "    print('Block:\\n',block,'\\nSecret word:',word,'====>',bin_word)\n",
    "    for i in range(0,8):\n",
    "        fi = block_int_to_bin(block[:,i])\n",
    "        # SUM(fi and key)\n",
    "        and_sum = np.bitwise_and(fi, key).sum()\n",
    "        # SUM(key)\n",
    "        key_sum = key.sum()\n",
    "        print('\\nSUM(fi and key):',and_sum,'| SUM(key):',key_sum,'| Bit:',bin_word[i])\n",
    "        if and_sum % 2 == int(bin_word[i]):\n",
    "            print('====> Do nothing')\n",
    "        elif and_sum == 1:\n",
    "            print('====> and_sum == 1')\n",
    "        elif and_sum == key_sum - 1:\n",
    "            print('====> and_sum == key_sum - 1')\n",
    "        else:\n",
    "            print('====> Everything else')\n",
    "\n",
    "hide_in_block(\n",
    "    np.array(\n",
    "        [[143, 145, 147, 146, 147, 147, 148, 148],\n",
    "        [143, 144, 145, 145, 144, 145, 145, 146],\n",
    "        [144, 145, 146, 145, 144, 144, 146, 146],\n",
    "        [144, 144, 143, 145, 145, 146, 144, 146],\n",
    "        [144, 143, 145, 145, 145, 144, 145, 145],\n",
    "        [146, 145, 144, 144, 145, 148, 147, 146],\n",
    "        [147, 146, 145, 144, 145, 146, 148, 147],\n",
    "        [146, 146, 143, 145, 145, 146, 147, 147]]\n",
    "    ),\n",
    "    'd'\n",
    ")\n"
   ]
  }
 ]
}