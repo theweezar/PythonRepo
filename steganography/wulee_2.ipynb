{
 "metadata": {
  "language_info": {
   "codemirror_mode": {
    "name": "ipython",
    "version": 3
   },
   "file_extension": ".py",
   "mimetype": "text/x-python",
   "name": "python",
   "nbconvert_exporter": "python",
   "pygments_lexer": "ipython3",
   "version": "3.6.4-final"
  },
  "orig_nbformat": 2,
  "kernelspec": {
   "name": "python3",
   "display_name": "Python 3.6.4 64-bit",
   "metadata": {
    "interpreter": {
     "hash": "9725c9081b7b98f4947683eb2f36d53283d1f458f2b59a0849159d07f2ffaed7"
    }
   }
  }
 },
 "nbformat": 4,
 "nbformat_minor": 2,
 "cells": [
  {
   "cell_type": "code",
   "execution_count": 1,
   "metadata": {},
   "outputs": [],
   "source": [
    "import cv2\n",
    "import numpy as np\n",
    "import matplotlib.pyplot as plt\n",
    "import random\n",
    "\n",
    "def string_to_bin(message):\n",
    "    bin_ = []\n",
    "    for c in message:\n",
    "        bin_.append('{0:08b}'.format(ord(c)))\n",
    "    return bin_\n",
    "\n",
    "def block_int_to_bin(block):\n",
    "    arr_bin = ['{0:08b}'.format(int(e)) for e in block]\n",
    "    np_bin = []\n",
    "    for a in arr_bin:\n",
    "        r = [int(b) for b in a]\n",
    "        np_bin.append(r)\n",
    "    return np.array(np_bin)\n",
    "\n",
    "def block_bin_to_int(block):\n",
    "    return block\n",
    "\n",
    "def block_random(block, cond, value):\n",
    "    while True:\n",
    "        r_y = random.randint(0,64)\n",
    "        r_x = random.randint(0,64)\n",
    "        if block[r_y][r_x] == cond:\n",
    "            block[r_y][r_x] = value\n",
    "            return block\n",
    "\n",
    "\n",
    "\n",
    "class Wulee:\n",
    "\n",
    "    def __init__(self):\n",
    "        self.source = self.msg = None\n",
    "        self.key = np.array([\n",
    "            [1,0,1,0,0,0,0,0],\n",
    "            [0,0,0,0,1,0,0,0],\n",
    "            [0,0,1,0,0,0,0,0],\n",
    "            [0,0,0,0,1,0,0,0],\n",
    "            [0,0,1,0,0,0,1,0],\n",
    "            [0,0,0,0,1,0,0,0],\n",
    "            [0,0,0,0,0,0,1,0],\n",
    "            [0,1,0,1,0,1,0,0]\n",
    "        ])\n",
    "\n",
    "    def load(self, path):\n",
    "        self.source = cv2.imread(path, cv2.IMREAD_GRAYSCALE)\n",
    "        return self\n",
    "    \n",
    "    def message(self, msg):\n",
    "        self.msg = msg\n",
    "        return self\n",
    "    \n",
    "    def hide(self):\n",
    "        if self.source is None:\n",
    "            print('No source')\n",
    "        elif self.msg is None:\n",
    "            print('No message')\n",
    "        else:\n",
    "            hidden_word_count = 0\n",
    "            words_bin = string_to_bin(self.msg)\n",
    "            print(words_bin)\n",
    "            for y in range(0, self.source.shape[0], 8):\n",
    "                hidden_bin_count = 0\n",
    "                for x in range(0, self.source.shape[1]):\n",
    "                    if hidden_word_count == len(self.msg):\n",
    "                        return self\n",
    "                    else:\n",
    "                        current_word_bin = words_bin[hidden_word_count]\n",
    "                        block = self.source[y:y+8,x:x+1]\n",
    "                        fi = block_int_to_bin(block)\n",
    "                        gi = fi\n",
    "                        # print('Block khi tách ra:\\n',block,'\\nBlock binary (fi):\\n',fi,'\\nKey K:\\n',self.key)\n",
    "                        # SUM(fi and key)\n",
    "                        and_sum = np.bitwise_and(fi, self.key).sum()\n",
    "                        # SUM(key)\n",
    "                        key_sum = self.key.sum()\n",
    "                        current_bit = int(current_word_bin[hidden_bin_count])\n",
    "                        print('\\nSUM(fi and key):',and_sum,'SUM(key):',key_sum,'bit:', current_bit)\n",
    "                        if and_sum % 2 == current_bit:\n",
    "                            print('NOT change fi')\n",
    "                        else:\n",
    "                            if and_sum == 1:\n",
    "                                while True:\n",
    "                                        r_y = random.randint(0,7)\n",
    "                                        r_x = random.randint(0,7)\n",
    "                                        if fi[r_y][r_x] == 0 and self.key[r_y][r_x] == 1:\n",
    "                                            fi[r_y][r_x] = 1\n",
    "                                            break\n",
    "                                print('and_sum = 1')\n",
    "                            elif and_sum == key_sum - 1:\n",
    "                                while True:\n",
    "                                        r_y = random.randint(0,7)\n",
    "                                        r_x = random.randint(0,7)\n",
    "                                        if fi[r_y][r_x] == 1 and self.key[r_y][r_x] == 1:\n",
    "                                            fi[r_y][r_x] = 0\n",
    "                                            break\n",
    "                                print('and_sum == key_sum - 1')\n",
    "                            else:\n",
    "                                while True:\n",
    "                                        r_y = random.randint(0,7)\n",
    "                                        r_x = random.randint(0,7)\n",
    "                                        if fi[r_y][r_x] == 1 and self.key[r_y][r_x] == 1:\n",
    "                                            fi[r_y][r_x] = 0\n",
    "                                            break\n",
    "                                print('Left option')\n",
    "\n",
    "                        hidden_bin_count += 1\n",
    "                        \n",
    "                        if hidden_bin_count == 8:\n",
    "\n",
    "                            hidden_word_count += 1\n",
    "                            hidden_bin_count = 0\n",
    "                            print(f'\\nHide successfully word {current_word_bin}')\n",
    "                            # print(f'\\nNew bin block fi:\\n',fi)\n",
    "                    \n",
    "                \n",
    "        return self\n",
    "\n",
    "    def retrieve(self):\n",
    "        print(self.source[0:8,0:8])\n",
    "        return self\n",
    "\n",
    "    def draw(self):\n",
    "        rgb = cv2.cvtColor(self.source, cv2.COLOR_BGR2RGB)\n",
    "        plt.subplot(1,2,1)\n",
    "        plt.imshow(rgb)\n",
    "\n",
    "\n"
   ]
  },
  {
   "cell_type": "code",
   "execution_count": 2,
   "metadata": {
    "tags": []
   },
   "outputs": [
    {
     "output_type": "stream",
     "name": "stdout",
     "text": [
      "[[143 145 147 146 147 147 148 148]\n [143 144 145 145 144 145 145 146]\n [144 145 146 145 144 144 146 146]\n [144 144 143 145 145 146 144 146]\n [144 143 145 145 145 144 145 145]\n [146 145 144 144 145 148 147 146]\n [147 146 145 144 145 146 148 147]\n [146 146 143 145 145 146 147 147]]\n"
     ]
    },
    {
     "output_type": "execute_result",
     "data": {
      "text/plain": [
       "<__main__.Wulee at 0x28131255358>"
      ]
     },
     "metadata": {},
     "execution_count": 2
    }
   ],
   "source": [
    "wulee = Wulee()\n",
    "wulee.load('./cat.jpeg').message('d').retrieve()"
   ]
  }
 ]
}